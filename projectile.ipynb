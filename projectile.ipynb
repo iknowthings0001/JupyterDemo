{
 "cells": [
  {
   "cell_type": "markdown",
   "id": "387aca44-af39-4e59-a5a4-b74057448c3a",
   "metadata": {},
   "source": [
    "# Projectiles"
   ]
  },
  {
   "cell_type": "markdown",
   "id": "0adfeb17-7842-4cba-8d4e-c22092c39e2d",
   "metadata": {},
   "source": [
    "The next example calculates and plots  the distance of a projectile using standard equations\n",
    "$\n",
    "\\begin{equation}\n",
    "\\begin{aligned}\n",
    "x = x_0+v_xt \\\\\n",
    "y = y_0 + v_{oy}-\\frac{1}{2}gt^2\n",
    "\\end{aligned}\n",
    "\\tag{Projectile equations}\n",
    "\\end{equation}\n",
    "$\n",
    "\n",
    "Where\n",
    "- $x_0=0$\n",
    "- $y_0=0$\n",
    "- $ v_{0x}=10 m/s$\n",
    "- $v_{oy}=10 m/s$"
   ]
  },
  {
   "cell_type": "markdown",
   "id": "8ca297a1-b642-458e-a95d-fcabb8e1cedc",
   "metadata": {},
   "source": [
    "## Importing Packages"
   ]
  },
  {
   "cell_type": "code",
   "execution_count": 1,
   "id": "63f773f7-a1f0-4d51-937a-fdde211b3bcd",
   "metadata": {},
   "outputs": [],
   "source": [
    "import matplotlib.pyplot as plt\n",
    "import math"
   ]
  },
  {
   "cell_type": "markdown",
   "id": "f24ea24c-1ae4-4624-a95e-e11fca6bea91",
   "metadata": {},
   "source": [
    "## Define Functions"
   ]
  },
  {
   "cell_type": "code",
   "execution_count": 2,
   "id": "fadd015a-797c-4ed5-9dc6-eb599473c5b9",
   "metadata": {},
   "outputs": [],
   "source": [
    "def get_num_seconds(g,v0y,y0):\n",
    "    a=-g/2\n",
    "    b=v0y\n",
    "    c=y0\n",
    "    d = (b**2) - (4*a*c)\n",
    "    sol1 = (-b-d**0.5)/(2*a)\n",
    "    sol2 = (-b+d**0.5)/(2*a)\n",
    "    return math.ceil(max(sol1*100,sol2*100))\n",
    "\n",
    "def get_trayectory(x0,y0,v0x,v0y,sim_number):\n",
    "    x= [x0+v0x*(t*0.01) for t in range(0,sim_number,1)]\n",
    "    y= [y0+v0y*(t*0.01)-(g*(t*0.01)**2)/2 for t in range(0,sim_number,1)]\n",
    "    return x,y"
   ]
  },
  {
   "cell_type": "markdown",
   "id": "7405d5ef-807d-4891-94e0-3d32b3489aa7",
   "metadata": {},
   "source": [
    "## Asigning Values"
   ]
  },
  {
   "cell_type": "code",
   "execution_count": 3,
   "id": "ffd43216-4245-4524-b6df-f3b006987b5e",
   "metadata": {},
   "outputs": [],
   "source": [
    "g=9.8\n",
    "x0=0\n",
    "y0=50\n",
    "v0x=10\n",
    "v0y=10"
   ]
  },
  {
   "cell_type": "markdown",
   "id": "b030e303-c9ee-47fb-ae33-361e0f45fd87",
   "metadata": {},
   "source": [
    "## Calculating number of seconds before crash"
   ]
  },
  {
   "cell_type": "code",
   "execution_count": 4,
   "id": "4d49b72c-11ba-401d-b668-87855a35da80",
   "metadata": {},
   "outputs": [],
   "source": [
    "sim_number=get_num_seconds(g,v0y,y0)"
   ]
  },
  {
   "cell_type": "markdown",
   "id": "16d5fc8d-5276-4c1e-b42a-c2776126e94d",
   "metadata": {},
   "source": [
    "## Calculating values"
   ]
  },
  {
   "cell_type": "code",
   "execution_count": 5,
   "id": "f969eed0-5e6c-423e-a294-67ab0a48ffaf",
   "metadata": {},
   "outputs": [],
   "source": [
    "x,y=get_trayectory(x0,y0,v0x,v0y,sim_number)"
   ]
  },
  {
   "cell_type": "markdown",
   "id": "a5fc4664-4cc3-41d9-9ac5-ee5c355b0a40",
   "metadata": {},
   "source": [
    "## Increasing the speed of projectile"
   ]
  },
  {
   "cell_type": "code",
   "execution_count": 6,
   "id": "073cd4d1-c9c8-49ad-9323-71ccd23b58e9",
   "metadata": {},
   "outputs": [],
   "source": [
    "x1,y1=get_trayectory(x0,y0,v0x+1,v0y,sim_number)"
   ]
  },
  {
   "cell_type": "markdown",
   "id": "a2172906-3f10-424e-8b3f-148d0ced21f2",
   "metadata": {},
   "source": [
    "## Ploting Graphs"
   ]
  },
  {
   "cell_type": "code",
   "execution_count": 7,
   "id": "7283e470-e637-4162-8462-20258ac7190a",
   "metadata": {},
   "outputs": [
    {
     "data": {
      "image/png": "[encoded data removed]",
      "text/plain": [
       "<Figure size 432x288 with 1 Axes>"
      ]
     },
     "metadata": {
      "needs_background": "light"
     },
     "output_type": "display_data"
    }
   ],
   "source": [
    "plt.plot(x,y)\n",
    "plt.plot(x1,y1)\n",
    "plt.grid()\n",
    "plt.xlim(0, None)\n",
    "plt.ylim(0, None)\n",
    "plt.show()"
   ]
  },
  {
   "cell_type": "code",
   "execution_count": null,
   "id": "dd02a43c-57a3-4c8d-9ea8-46384c311bec",
   "metadata": {},
   "outputs": [],
   "source": []
  }
 ],
 "metadata": {
  "kernelspec": {
   "display_name": "Python 3",
   "language": "python",
   "name": "python3"
  },
  "language_info": {
   "codemirror_mode": {
    "name": "ipython",
    "version": 3
   },
   "file_extension": ".py",
   "mimetype": "text/x-python",
   "name": "python",
   "nbconvert_exporter": "python",
   "pygments_lexer": "ipython3",
   "version": "3.8.5"
  }
 },
 "nbformat": 4,
 "nbformat_minor": 5
}
